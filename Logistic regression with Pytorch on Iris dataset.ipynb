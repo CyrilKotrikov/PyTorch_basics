{
 "cells": [
  {
   "cell_type": "code",
   "execution_count": 18,
   "metadata": {},
   "outputs": [],
   "source": [
    "from sklearn.datasets import load_iris\n",
    "import numpy as np\n",
    "from torch import tensor , nn\n",
    "import torch\n",
    "import matplotlib.pyplot as plt"
   ]
  },
  {
   "cell_type": "code",
   "execution_count": 19,
   "metadata": {},
   "outputs": [],
   "source": [
    "data = load_iris()\n",
    "\n",
    "X=tensor(data.data[:,[1,3]], dtype=torch.float)\n",
    "y = tensor(data.target, dtype=torch.int)"
   ]
  },
  {
   "cell_type": "code",
   "execution_count": 20,
   "metadata": {},
   "outputs": [],
   "source": [
    "torch.manual_seed(123)\n",
    "shuffle_idx = torch.randperm(y.size(0), dtype=torch.long)\n",
    "\n",
    "X, y = X[shuffle_idx], y[shuffle_idx]\n",
    "\n",
    "percent80 = int(shuffle_idx.size(0)*0.8)\n",
    "\n",
    "X_train, X_test = X[shuffle_idx[:percent80]], X[shuffle_idx[percent80:]]\n",
    "y_train, y_test = y[shuffle_idx[:percent80]], y[shuffle_idx[percent80:]]"
   ]
  },
  {
   "cell_type": "code",
   "execution_count": 21,
   "metadata": {},
   "outputs": [],
   "source": [
    "class logreg_model (nn.Module):\n",
    "    def __init__(self) -> None:\n",
    "        super().__init__()\n",
    "\n",
    "        self.linear = nn.Linear(in_features=2, out_features=3)\n",
    "\n",
    "        self.linear.weight.detach().zero_()\n",
    "\n",
    "        self.linear.bias.detach().zero_()\n",
    "\n",
    "    def forward(self, x):\n",
    "\n",
    "        self.regression = self.linear(x)\n",
    "\n",
    "        self.probability = nn.functional.softmax(self.regression, dim=1)\n",
    "\n",
    "        return self.regression, self.probability"
   ]
  },
  {
   "cell_type": "code",
   "execution_count": 22,
   "metadata": {},
   "outputs": [
    {
     "name": "stdout",
     "output_type": "stream",
     "text": [
      "<bound method Module.parameters of logreg_model(\n",
      "  (linear): Linear(in_features=2, out_features=3, bias=True)\n",
      ")>\n"
     ]
    }
   ],
   "source": [
    "model = logreg_model()\n",
    "\n",
    "print(model.parameters)"
   ]
  },
  {
   "cell_type": "code",
   "execution_count": 23,
   "metadata": {},
   "outputs": [],
   "source": [
    "def comp_accuracy(true_labels, pred_labels):\n",
    "    accuracy = torch.sum(true_labels.view(-1).float() == \n",
    "                         pred_labels.float()).item() / true_labels.size(0)\n",
    "    return accuracy"
   ]
  },
  {
   "cell_type": "code",
   "execution_count": 24,
   "metadata": {},
   "outputs": [],
   "source": [
    "optimiser = torch.optim.SGD(model.parameters(),lr = 0.1)"
   ]
  },
  {
   "cell_type": "code",
   "execution_count": 25,
   "metadata": {},
   "outputs": [
    {
     "name": "stdout",
     "output_type": "stream",
     "text": [
      "Epoch: 0 | Loss: 1.09861, Train accuracy: 34.17% | Test accuracy: 56.67%\n",
      "Epoch: 10 | Loss: 0.92625, Train accuracy: 69.17% | Test accuracy: 56.67%\n",
      "Epoch: 20 | Loss: 0.81701, Train accuracy: 69.17% | Test accuracy: 56.67%\n",
      "Epoch: 30 | Loss: 0.74180, Train accuracy: 69.17% | Test accuracy: 56.67%\n",
      "Epoch: 40 | Loss: 0.68718, Train accuracy: 69.17% | Test accuracy: 56.67%\n",
      "Epoch: 50 | Loss: 0.64560, Train accuracy: 70.00% | Test accuracy: 60.00%\n",
      "Epoch: 60 | Loss: 0.61268, Train accuracy: 71.67% | Test accuracy: 60.00%\n",
      "Epoch: 70 | Loss: 0.58579, Train accuracy: 73.33% | Test accuracy: 60.00%\n",
      "Epoch: 80 | Loss: 0.56325, Train accuracy: 76.67% | Test accuracy: 60.00%\n",
      "Epoch: 90 | Loss: 0.54396, Train accuracy: 80.00% | Test accuracy: 60.00%\n",
      "Epoch: 100 | Loss: 0.52716, Train accuracy: 84.17% | Test accuracy: 70.00%\n",
      "Epoch: 110 | Loss: 0.51231, Train accuracy: 87.50% | Test accuracy: 70.00%\n",
      "Epoch: 120 | Loss: 0.49904, Train accuracy: 88.33% | Test accuracy: 76.67%\n",
      "Epoch: 130 | Loss: 0.48704, Train accuracy: 88.33% | Test accuracy: 76.67%\n",
      "Epoch: 140 | Loss: 0.47611, Train accuracy: 89.17% | Test accuracy: 80.00%\n",
      "Epoch: 150 | Loss: 0.46607, Train accuracy: 89.17% | Test accuracy: 80.00%\n",
      "Epoch: 160 | Loss: 0.45678, Train accuracy: 90.83% | Test accuracy: 86.67%\n",
      "Epoch: 170 | Loss: 0.44816, Train accuracy: 90.83% | Test accuracy: 90.00%\n",
      "Epoch: 180 | Loss: 0.44009, Train accuracy: 90.83% | Test accuracy: 90.00%\n",
      "Epoch: 190 | Loss: 0.43253, Train accuracy: 92.50% | Test accuracy: 96.67%\n",
      "Epoch: 200 | Loss: 0.42541, Train accuracy: 93.33% | Test accuracy: 96.67%\n",
      "Epoch: 210 | Loss: 0.41867, Train accuracy: 93.33% | Test accuracy: 96.67%\n",
      "Epoch: 220 | Loss: 0.41229, Train accuracy: 93.33% | Test accuracy: 96.67%\n",
      "Epoch: 230 | Loss: 0.40622, Train accuracy: 94.17% | Test accuracy: 96.67%\n",
      "Epoch: 240 | Loss: 0.40044, Train accuracy: 93.33% | Test accuracy: 96.67%\n",
      "Epoch: 250 | Loss: 0.39492, Train accuracy: 94.17% | Test accuracy: 100.00%\n",
      "Epoch: 260 | Loss: 0.38964, Train accuracy: 94.17% | Test accuracy: 100.00%\n",
      "Epoch: 270 | Loss: 0.38458, Train accuracy: 94.17% | Test accuracy: 100.00%\n",
      "Epoch: 280 | Loss: 0.37972, Train accuracy: 94.17% | Test accuracy: 100.00%\n",
      "Epoch: 290 | Loss: 0.37505, Train accuracy: 94.17% | Test accuracy: 100.00%\n"
     ]
    }
   ],
   "source": [
    "epochs = 300\n",
    "\n",
    "for i in range(epochs):\n",
    "\n",
    "    reg_results , prob_results = model(X_train)\n",
    "\n",
    "    loss = nn.CrossEntropyLoss()\n",
    "\n",
    "    output = loss(reg_results, y_train.long())\n",
    "\n",
    "    acc=comp_accuracy(y_train, torch.argmax(prob_results, dim=1))\n",
    "\n",
    "    optimiser.zero_grad()\n",
    "\n",
    "    output.backward()\n",
    "\n",
    "    optimiser.step()\n",
    "\n",
    "    test_reg_results, test_prob_results =model(X_test)\n",
    "\n",
    "    test_acc=comp_accuracy(y_test, torch.argmax(test_prob_results, dim=1))\n",
    "    \n",
    "    if i % 10 ==0:\n",
    "\n",
    "        print(f\"Epoch: {i} | Loss: {output:.5f}, Train accuracy: {acc *100:.2f}% | Test accuracy: {test_acc*100:.2f}%\")"
   ]
  }
 ],
 "metadata": {
  "kernelspec": {
   "display_name": "Python 3",
   "language": "python",
   "name": "python3"
  },
  "language_info": {
   "codemirror_mode": {
    "name": "ipython",
    "version": 3
   },
   "file_extension": ".py",
   "mimetype": "text/x-python",
   "name": "python",
   "nbconvert_exporter": "python",
   "pygments_lexer": "ipython3",
   "version": "3.11.4"
  }
 },
 "nbformat": 4,
 "nbformat_minor": 2
}
