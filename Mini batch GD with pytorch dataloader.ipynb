{
 "cells": [
  {
   "cell_type": "code",
   "execution_count": 1,
   "metadata": {},
   "outputs": [],
   "source": [
    "import torch\n",
    "import torchvision\n",
    "from torch.utils.data import Dataset, DataLoader\n",
    "import numpy as np\n",
    "import math\n",
    "from sklearn.datasets import load_wine\n",
    "from torch import nn\n",
    "import matplotlib.pyplot as plt\n",
    "from sklearn.preprocessing import StandardScaler"
   ]
  },
  {
   "cell_type": "code",
   "execution_count": 2,
   "metadata": {},
   "outputs": [],
   "source": [
    "class Loaddataset(object):\n",
    "\n",
    "    def __init__(self):\n",
    "\n",
    "        data = load_wine()\n",
    "\n",
    "        self.X=data['data']\n",
    "\n",
    "        scaler = StandardScaler()\n",
    "\n",
    "        self.X = scaler.fit_transform(self.X)\n",
    "\n",
    "        self.X = torch.tensor(self.X, dtype=torch.float32)\n",
    "\n",
    "        self.y=torch.tensor(data['target'],dtype=torch.int)\n",
    "\n",
    "        self.n_samples =self.X.shape[0]\n",
    "    \n",
    "    def dataset (self):\n",
    "\n",
    "        return self.X, self.y\n",
    "    \n",
    "    def __len__(self):\n",
    "\n",
    "        return self.n_samples\n",
    "    \n",
    "    def __getitem__(self, index):\n",
    "\n",
    "        return self.X[index], self.y[index]"
   ]
  },
  {
   "cell_type": "code",
   "execution_count": 3,
   "metadata": {},
   "outputs": [],
   "source": [
    "def comp_accuracy(true_labels, pred_labels):\n",
    "    accuracy = torch.sum(true_labels.view(-1).float() == \n",
    "                         pred_labels.float()).item() / true_labels.size(0)\n",
    "    return accuracy"
   ]
  },
  {
   "cell_type": "code",
   "execution_count": 4,
   "metadata": {},
   "outputs": [],
   "source": [
    "model =nn.Sequential(nn.Linear(13,3),nn.Softmax())\n",
    "\n",
    "loss_fn = nn.CrossEntropyLoss()\n",
    "\n",
    "optimiser = torch.optim.SGD(model.parameters(), lr=0.1,momentum=0.9)"
   ]
  },
  {
   "cell_type": "code",
   "execution_count": 6,
   "metadata": {},
   "outputs": [],
   "source": [
    "dataset = Loaddataset()\n",
    "\n",
    "dataloader = DataLoader(dataset, batch_size=10, shuffle=True)\n",
    "\n",
    "features, labels = next(iter(dataloader))"
   ]
  },
  {
   "cell_type": "code",
   "execution_count": 14,
   "metadata": {},
   "outputs": [
    {
     "name": "stdout",
     "output_type": "stream",
     "text": [
      "0\n",
      "Epoch: 0 | Loss: 1.13163, Train accuracy: 30.00%\n",
      "Epoch: 0 | Loss: 1.14209, Train accuracy: 30.00%\n",
      "Epoch: 0 | Loss: 1.12641, Train accuracy: 30.00%\n",
      "Epoch: 0 | Loss: 1.07566, Train accuracy: 70.00%\n",
      "Epoch: 0 | Loss: 0.97636, Train accuracy: 90.00%\n",
      "Epoch: 0 | Loss: 0.96685, Train accuracy: 70.00%\n",
      "Epoch: 0 | Loss: 0.92381, Train accuracy: 70.00%\n",
      "Epoch: 0 | Loss: 0.75864, Train accuracy: 100.00%\n",
      "Epoch: 0 | Loss: 0.72468, Train accuracy: 100.00%\n",
      "Epoch: 0 | Loss: 0.79155, Train accuracy: 90.00%\n",
      "Epoch: 0 | Loss: 0.71181, Train accuracy: 100.00%\n",
      "Epoch: 0 | Loss: 0.60586, Train accuracy: 100.00%\n",
      "Epoch: 0 | Loss: 0.66221, Train accuracy: 100.00%\n",
      "Epoch: 0 | Loss: 0.68406, Train accuracy: 90.00%\n",
      "Epoch: 0 | Loss: 0.56879, Train accuracy: 100.00%\n",
      "Epoch: 0 | Loss: 0.61243, Train accuracy: 100.00%\n",
      "Epoch: 0 | Loss: 0.56226, Train accuracy: 100.00%\n",
      "Epoch: 0 | Loss: 0.72695, Train accuracy: 87.50%\n",
      "1\n",
      "Epoch: 1 | Loss: 0.63143, Train accuracy: 90.00%\n",
      "Epoch: 1 | Loss: 0.63627, Train accuracy: 90.00%\n",
      "Epoch: 1 | Loss: 0.68496, Train accuracy: 90.00%\n",
      "Epoch: 1 | Loss: 0.56009, Train accuracy: 100.00%\n",
      "Epoch: 1 | Loss: 0.59002, Train accuracy: 100.00%\n",
      "Epoch: 1 | Loss: 0.55900, Train accuracy: 100.00%\n",
      "Epoch: 1 | Loss: 0.57751, Train accuracy: 100.00%\n",
      "Epoch: 1 | Loss: 0.64314, Train accuracy: 90.00%\n",
      "Epoch: 1 | Loss: 0.56431, Train accuracy: 100.00%\n",
      "Epoch: 1 | Loss: 0.57789, Train accuracy: 100.00%\n",
      "Epoch: 1 | Loss: 0.56549, Train accuracy: 100.00%\n",
      "Epoch: 1 | Loss: 0.55817, Train accuracy: 100.00%\n",
      "Epoch: 1 | Loss: 0.56792, Train accuracy: 100.00%\n",
      "Epoch: 1 | Loss: 0.57051, Train accuracy: 100.00%\n",
      "Epoch: 1 | Loss: 0.62988, Train accuracy: 90.00%\n",
      "Epoch: 1 | Loss: 0.56772, Train accuracy: 100.00%\n",
      "Epoch: 1 | Loss: 0.63016, Train accuracy: 90.00%\n",
      "Epoch: 1 | Loss: 0.57226, Train accuracy: 100.00%\n"
     ]
    },
    {
     "name": "stderr",
     "output_type": "stream",
     "text": [
      "/Library/Frameworks/Python.framework/Versions/3.11/lib/python3.11/site-packages/torch/nn/modules/container.py:217: UserWarning: Implicit dimension choice for softmax has been deprecated. Change the call to include dim=X as an argument.\n",
      "  input = module(input)\n"
     ]
    }
   ],
   "source": [
    "epochs = 2\n",
    "\n",
    "for epoch in range(epochs):\n",
    "\n",
    "    print(epoch)\n",
    "\n",
    "    for ii, (inputs, labels) in enumerate(dataloader):\n",
    "\n",
    "        output = model(inputs)\n",
    "\n",
    "        loss_=loss_fn(output,labels.long())\n",
    "\n",
    "        acc = comp_accuracy(labels, torch.argmax(output, dim=1))\n",
    "\n",
    "        optimiser.zero_grad()\n",
    "\n",
    "        loss_.backward()\n",
    "\n",
    "        optimiser.step()\n",
    "\n",
    "        print(f\"Epoch: {epoch} | Loss: {loss_:.5f}, Train accuracy: {acc *100:.2f}%\")"
   ]
  }
 ],
 "metadata": {
  "kernelspec": {
   "display_name": "Python 3",
   "language": "python",
   "name": "python3"
  },
  "language_info": {
   "codemirror_mode": {
    "name": "ipython",
    "version": 3
   },
   "file_extension": ".py",
   "mimetype": "text/x-python",
   "name": "python",
   "nbconvert_exporter": "python",
   "pygments_lexer": "ipython3",
   "version": "3.11.4"
  }
 },
 "nbformat": 4,
 "nbformat_minor": 2
}
