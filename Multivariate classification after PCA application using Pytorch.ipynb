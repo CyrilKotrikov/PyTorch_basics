{
 "cells": [
  {
   "cell_type": "code",
   "execution_count": 1,
   "metadata": {},
   "outputs": [],
   "source": [
    "import torch\n",
    "import torchvision\n",
    "from torch.utils.data import Dataset, DataLoader\n",
    "import numpy as np\n",
    "import math\n",
    "from sklearn.datasets import load_wine\n",
    "from torch import nn\n",
    "import matplotlib.pyplot as plt\n",
    "from sklearn.preprocessing import StandardScaler\n",
    "from sklearn.decomposition import PCA"
   ]
  },
  {
   "cell_type": "code",
   "execution_count": 2,
   "metadata": {},
   "outputs": [],
   "source": [
    "class Loaddataset(object):\n",
    "\n",
    "    def __init__(self):\n",
    "\n",
    "        data = load_wine()\n",
    "\n",
    "        self.X=data['data']\n",
    "\n",
    "        scaler = StandardScaler()\n",
    "\n",
    "        self.X = scaler.fit_transform(self.X)\n",
    "\n",
    "        pca = PCA(n_components=2) # decompositoin with PCA\n",
    "\n",
    "        self.X = pca.fit_transform(self.X)\n",
    "\n",
    "        self.X = torch.tensor(self.X, dtype=torch.float32)\n",
    "\n",
    "        self.y=torch.tensor(data['target'],dtype=torch.int)\n",
    "\n",
    "        self.n_samples =self.X.shape[0]\n",
    "    \n",
    "    def dataset (self):\n",
    "\n",
    "        return self.X, self.y\n",
    "    \n",
    "    def __len__(self):\n",
    "\n",
    "        return self.n_samples\n",
    "    \n",
    "    def __getitem__(self, index):\n",
    "\n",
    "        return self.X[index], self.y[index]"
   ]
  },
  {
   "cell_type": "code",
   "execution_count": 3,
   "metadata": {},
   "outputs": [],
   "source": [
    "dataset = Loaddataset()\n",
    "\n",
    "model = nn.Sequential(nn.Linear(2,3),nn.Softmax())\n",
    "\n",
    "loss = nn.CrossEntropyLoss()\n",
    "\n",
    "optimiser = torch.optim.SGD(model.parameters(), lr = 0.1, momentum=0.9)"
   ]
  },
  {
   "cell_type": "code",
   "execution_count": 4,
   "metadata": {},
   "outputs": [],
   "source": [
    "train_dataloader = DataLoader(dataset=dataset, batch_size=30, shuffle=True)"
   ]
  },
  {
   "cell_type": "code",
   "execution_count": 6,
   "metadata": {},
   "outputs": [
    {
     "name": "stdout",
     "output_type": "stream",
     "text": [
      "Accuracy score: 100.00%\n",
      "Accuracy score: 100.00%\n",
      "Accuracy score: 96.43%\n",
      "Accuracy score: 100.00%\n",
      "Accuracy score: 100.00%\n",
      "Accuracy score: 100.00%\n",
      "Accuracy score: 100.00%\n",
      "Accuracy score: 92.86%\n",
      "Accuracy score: 96.43%\n",
      "Accuracy score: 100.00%\n"
     ]
    }
   ],
   "source": [
    "n_epochs = 10\n",
    "\n",
    "for i in range (n_epochs):\n",
    "\n",
    "    for index, (input, targets) in enumerate(train_dataloader):\n",
    "\n",
    "        optimiser.zero_grad()\n",
    "\n",
    "        train_output = model(input)\n",
    "\n",
    "        loss_ = loss(train_output,targets.long())\n",
    "\n",
    "        accuracy = torch.sum(targets == torch.argmax(model(input),dim=1)) / targets.size()[0]\n",
    "\n",
    "        loss_.backward()\n",
    "\n",
    "        optimiser.step()\n",
    "\n",
    "    print (f\"Accuracy score: {accuracy * 100:.2f}%\")\n"
   ]
  }
 ],
 "metadata": {
  "kernelspec": {
   "display_name": "Python 3",
   "language": "python",
   "name": "python3"
  },
  "language_info": {
   "codemirror_mode": {
    "name": "ipython",
    "version": 3
   },
   "file_extension": ".py",
   "mimetype": "text/x-python",
   "name": "python",
   "nbconvert_exporter": "python",
   "pygments_lexer": "ipython3",
   "version": "3.11.4"
  }
 },
 "nbformat": 4,
 "nbformat_minor": 2
}
