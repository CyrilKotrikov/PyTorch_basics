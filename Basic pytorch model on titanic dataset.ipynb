{
 "cells": [
  {
   "cell_type": "code",
   "execution_count": 2,
   "metadata": {},
   "outputs": [],
   "source": [
    "import torch\n",
    "import numpy as np\n",
    "import pandas as pd\n",
    "from torch import nn\n",
    "from torch import tensor"
   ]
  },
  {
   "cell_type": "code",
   "execution_count": 3,
   "metadata": {},
   "outputs": [
    {
     "name": "stderr",
     "output_type": "stream",
     "text": [
      "/var/folders/lw/7f0nycwn5jx5ln7wlx7v0t3m0000gn/T/ipykernel_5082/2963687101.py:26: UserWarning: To copy construct from a tensor, it is recommended to use sourceTensor.clone().detach() or sourceTensor.clone().detach().requires_grad_(True), rather than torch.tensor(sourceTensor).\n",
      "  X= torch.tensor(X, dtype=torch.float32)\n",
      "/var/folders/lw/7f0nycwn5jx5ln7wlx7v0t3m0000gn/T/ipykernel_5082/2963687101.py:27: UserWarning: To copy construct from a tensor, it is recommended to use sourceTensor.clone().detach() or sourceTensor.clone().detach().requires_grad_(True), rather than torch.tensor(sourceTensor).\n",
      "  y = torch.tensor(y, dtype=torch.float32)\n"
     ]
    }
   ],
   "source": [
    "titanic=pd.read_csv('/Users/kirillkotrikov/Downloads/train.csv')\n",
    "\n",
    "modes=titanic.mode().loc[0]\n",
    "\n",
    "titanic['Age'].fillna(titanic['Age'].mean(),inplace=True)\n",
    "\n",
    "titanic['Embarked'].fillna('S',inplace=True)\n",
    "\n",
    "titanic['Log_fare']=np.log(titanic['Fare']+1)\n",
    "\n",
    "titanic=pd.get_dummies(titanic,columns=['Sex','Pclass','Embarked'],dtype=int)\n",
    "\n",
    "added_columns=['Sex_female', 'Sex_male', 'Pclass_1',\n",
    "       'Pclass_2', 'Pclass_3', 'Embarked_C', 'Embarked_Q', 'Embarked_S']\n",
    "\n",
    "X_cols=['Age', 'SibSp', 'Parch','Log_fare']+added_columns\n",
    "\n",
    "y=tensor(titanic.Survived)\n",
    "\n",
    "X=tensor(titanic[X_cols].values,dtype=torch.float)\n",
    "\n",
    "vals,indices=X.max(dim=0)\n",
    "\n",
    "X = X/vals\n",
    "\n",
    "X= torch.tensor(X, dtype=torch.float32)\n",
    "y = torch.tensor(y, dtype=torch.float32)"
   ]
  },
  {
   "cell_type": "code",
   "execution_count": 4,
   "metadata": {},
   "outputs": [
    {
     "name": "stdout",
     "output_type": "stream",
     "text": [
      "<bound method Module.parameters of Sequential(\n",
      "  (0): Linear(in_features=12, out_features=24, bias=True)\n",
      "  (1): Sigmoid()\n",
      "  (2): Linear(in_features=24, out_features=1, bias=True)\n",
      "  (3): Sigmoid()\n",
      ")>\n"
     ]
    }
   ],
   "source": [
    "model =nn.Sequential(nn.Linear(12,24),nn.Sigmoid(),nn.Linear(24,1),nn.Sigmoid())\n",
    "print(model.parameters)\n",
    "\n",
    "optimiser = torch.optim.SGD(model.parameters(), lr=0.1)\n",
    "\n",
    "loss = torch.nn.BCELoss()"
   ]
  },
  {
   "cell_type": "code",
   "execution_count": 5,
   "metadata": {},
   "outputs": [],
   "source": [
    "def comp_accuracy(true_labels, pred_labels):\n",
    "    accuracy = torch.sum(true_labels.view(-1).float() == \n",
    "                         pred_labels.float()).item() / true_labels.size(0)\n",
    "    return accuracy"
   ]
  },
  {
   "cell_type": "code",
   "execution_count": 46,
   "metadata": {},
   "outputs": [
    {
     "name": "stdout",
     "output_type": "stream",
     "text": [
      "Epoch: 0 | Accuracy score: 0.81\n",
      "Epoch: 10 | Accuracy score: 0.81\n",
      "Epoch: 20 | Accuracy score: 0.81\n",
      "Epoch: 30 | Accuracy score: 0.81\n",
      "Epoch: 40 | Accuracy score: 0.81\n",
      "Epoch: 50 | Accuracy score: 0.81\n",
      "Epoch: 60 | Accuracy score: 0.81\n",
      "Epoch: 70 | Accuracy score: 0.81\n",
      "Epoch: 80 | Accuracy score: 0.81\n",
      "Epoch: 90 | Accuracy score: 0.81\n",
      "Epoch: 100 | Accuracy score: 0.81\n",
      "Epoch: 110 | Accuracy score: 0.81\n",
      "Epoch: 120 | Accuracy score: 0.81\n",
      "Epoch: 130 | Accuracy score: 0.81\n",
      "Epoch: 140 | Accuracy score: 0.81\n",
      "Epoch: 150 | Accuracy score: 0.81\n",
      "Epoch: 160 | Accuracy score: 0.81\n",
      "Epoch: 170 | Accuracy score: 0.81\n",
      "Epoch: 180 | Accuracy score: 0.81\n",
      "Epoch: 190 | Accuracy score: 0.81\n"
     ]
    }
   ],
   "source": [
    "epochs=200\n",
    "\n",
    "for epoch in range(epochs):\n",
    "\n",
    "    result = model(X)\n",
    "\n",
    "    train_loss = loss(result ,y.reshape(-1,1))\n",
    "\n",
    "    optimiser.zero_grad()\n",
    "\n",
    "    train_loss.backward()\n",
    "\n",
    "    optimiser.step()\n",
    "\n",
    "    accuracy = torch.sum(y==torch.where(model(X).view(-1)>=0.5,1,0)).item() / y.size(0)\n",
    "\n",
    "    if epoch % 10 == 0:\n",
    "\n",
    "        print(f\"Epoch: {epoch} | Accuracy score: {accuracy:.2f}\")"
   ]
  }
 ],
 "metadata": {
  "kernelspec": {
   "display_name": "Python 3",
   "language": "python",
   "name": "python3"
  },
  "language_info": {
   "codemirror_mode": {
    "name": "ipython",
    "version": 3
   },
   "file_extension": ".py",
   "mimetype": "text/x-python",
   "name": "python",
   "nbconvert_exporter": "python",
   "pygments_lexer": "ipython3",
   "version": "3.11.4"
  },
  "orig_nbformat": 4
 },
 "nbformat": 4,
 "nbformat_minor": 2
}
